{
 "cells": [
  {
   "cell_type": "markdown",
   "metadata": {},
   "source": [
    "# Self-Driving Car Engineer Nanodegree\n",
    "\n",
    "\n",
    "## Project: **Finding Lane Lines on the Road** \n",
    "***\n",
    "In this project, you will use the tools you learned about in the lesson to identify lane lines on the road.  You can develop your pipeline on a series of individual images, and later apply the result to a video stream (really just a series of images). Check out the video clip \"raw-lines-example.mp4\" (also contained in this repository) to see what the output should look like after using the helper functions below. \n",
    "\n",
    "Once you have a result that looks roughly like \"raw-lines-example.mp4\", you'll need to get creative and try to average and/or extrapolate the line segments you've detected to map out the full extent of the lane lines.  You can see an example of the result you're going for in the video \"P1_example.mp4\".  Ultimately, you would like to draw just one line for the left side of the lane, and one for the right.\n",
    "\n",
    "In addition to implementing code, there is a brief writeup to complete. The writeup should be completed in a separate file, which can be either a markdown file or a pdf document. There is a [write up template](https://github.com/udacity/CarND-LaneLines-P1/blob/master/writeup_template.md) that can be used to guide the writing process. Completing both the code in the Ipython notebook and the writeup template will cover all of the [rubric points](https://review.udacity.com/#!/rubrics/322/view) for this project.\n",
    "\n",
    "---\n",
    "Let's have a look at our first image called 'test_images/solidWhiteRight.jpg'.  Run the 2 cells below (hit Shift-Enter or the \"play\" button above) to display the image.\n",
    "\n",
    "**Note: If, at any point, you encounter frozen display windows or other confounding issues, you can always start again with a clean slate by going to the \"Kernel\" menu above and selecting \"Restart & Clear Output\".**\n",
    "\n",
    "---"
   ]
  },
  {
   "cell_type": "markdown",
   "metadata": {},
   "source": [
    "**The tools you have are color selection, region of interest selection, grayscaling, Gaussian smoothing, Canny Edge Detection and Hough Tranform line detection.  You  are also free to explore and try other techniques that were not presented in the lesson.  Your goal is piece together a pipeline to detect the line segments in the image, then average/extrapolate them and draw them onto the image for display (as below).  Once you have a working pipeline, try it out on the video stream below.**\n",
    "\n",
    "---\n",
    "\n",
    "<figure>\n",
    " <img src=\"examples/line-segments-example.jpg\" width=\"380\" alt=\"Combined Image\" />\n",
    " <figcaption>\n",
    " <p></p> \n",
    " <p style=\"text-align: center;\"> Your output should look something like this (above) after detecting line segments using the helper functions below </p> \n",
    " </figcaption>\n",
    "</figure>\n",
    " <p></p> \n",
    "<figure>\n",
    " <img src=\"examples/laneLines_thirdPass.jpg\" width=\"380\" alt=\"Combined Image\" />\n",
    " <figcaption>\n",
    " <p></p> \n",
    " <p style=\"text-align: center;\"> Your goal is to connect/average/extrapolate line segments to get output like this</p> \n",
    " </figcaption>\n",
    "</figure>"
   ]
  },
  {
   "cell_type": "markdown",
   "metadata": {},
   "source": [
    "**Run the cell below to import some packages.  If you get an `import error` for a package you've already installed, try changing your kernel (select the Kernel menu above --> Change Kernel).  Still have problems?  Try relaunching Jupyter Notebook from the terminal prompt.  Also, consult the forums for more troubleshooting tips.**  "
   ]
  },
  {
   "cell_type": "markdown",
   "metadata": {},
   "source": [
    "## Import Packages"
   ]
  },
  {
   "cell_type": "code",
   "execution_count": null,
   "metadata": {},
   "outputs": [],
   "source": [
    "import matplotlib.pyplot as plt\n",
    "import matplotlib.image as mpimg\n",
    "import numpy as np\n",
    "import cv2\n",
    "%matplotlib inline"
   ]
  },
  {
   "cell_type": "markdown",
   "metadata": {},
   "source": [
    "## Read in an Image"
   ]
  },
  {
   "cell_type": "code",
   "execution_count": null,
   "metadata": {},
   "outputs": [],
   "source": [
    "# Reading a test image file \n",
    "image = mpimg.imread('test_images/solidWhiteRight.jpg')\n",
    "# Printing out some stats and plotting\n",
    "print('This image is:', type(image), 'with dimensions:', image.shape)\n",
    "# if you wanted to show a single color channel image called 'gray', for example, call as plt.imshow(gray, cmap='gray')\n",
    "plt.imshow(image)  "
   ]
  },
  {
   "cell_type": "markdown",
   "metadata": {},
   "source": [
    "## Ideas for Lane Detection Pipeline"
   ]
  },
  {
   "cell_type": "markdown",
   "metadata": {},
   "source": [
    "**Some OpenCV functions\n",
    "\n",
    "`cv2.inRange()` for color selection  \n",
    "`cv2.fillPoly()` for regions selection  \n",
    "`cv2.line()` to draw lines on an image given endpoints  \n",
    "`cv2.addWeighted()` to coadd / overlay two images  \n",
    "`cv2.cvtColor()` to grayscale or change color  \n",
    "`cv2.imwrite()` to output images to file  \n",
    "`cv2.bitwise_and()` to apply a mask to an image\n",
    "\n",
    "**Check out the OpenCV documentation to learn about these and discover even more interesting functionalities**"
   ]
  },
  {
   "cell_type": "markdown",
   "metadata": {},
   "source": [
    "## Helper Functions"
   ]
  },
  {
   "cell_type": "code",
   "execution_count": null,
   "metadata": {
    "code_folding": []
   },
   "outputs": [],
   "source": [
    "import math\n",
    "from collections import deque\n",
    "\n",
    "def grayscale(img):\n",
    "    \"\"\"Applies the Grayscale transform\n",
    "    This will return an image with only one color channel\n",
    "    but NOTE: to see the returned image as grayscale\n",
    "    (assuming your grayscaled image is called 'gray')\n",
    "    you should call plt.imshow(gray, cmap='gray')\"\"\"\n",
    "#     return cv2.cvtColor(img, cv2.COLOR_RGB2GRAY)\n",
    "    # Or use BGR2GRAY if you read an image with cv2.imread()\n",
    "    return cv2.cvtColor(img, cv2.COLOR_BGR2GRAY)\n",
    "    \n",
    "def canny(img, low_threshold, high_threshold):\n",
    "    \"\"\"Applies the Canny transform\"\"\"\n",
    "    return cv2.Canny(img, low_threshold, high_threshold)\n",
    "\n",
    "def gaussian_blur(img, kernel_size):\n",
    "    \"\"\"Applies a Gaussian Noise kernel\"\"\"\n",
    "    return cv2.GaussianBlur(img, (kernel_size, kernel_size), 0)\n",
    "\n",
    "def region_of_interest(img, vertices):\n",
    "    \"\"\"\n",
    "    Applies an image mask.\n",
    "    \n",
    "    Only keeps the region of the image defined by the polygon\n",
    "    formed from `vertices`. The rest of the image is set to black.\n",
    "    `vertices` should be a numpy array of integer points.\n",
    "    \"\"\"\n",
    "    # Defining a blank mask to start with\n",
    "    mask = np.zeros_like(img)   \n",
    "    \n",
    "    # Defining a 3-channel or 1-channel color to fill the mask with depending on the input image\n",
    "    if len(img.shape) > 2:\n",
    "        channel_count = img.shape[2]  # i.e. 3 or 4 depending on your image\n",
    "        ignore_mask_color = (255,) * channel_count\n",
    "    else:\n",
    "        ignore_mask_color = 255\n",
    "        \n",
    "    # Filling pixels inside the polygon defined by \"vertices\" with the fill color    \n",
    "    cv2.fillPoly(mask, vertices, ignore_mask_color)\n",
    "    \n",
    "    # Returning the image only where mask pixels are nonzero\n",
    "    masked_image = cv2.bitwise_and(img, mask)\n",
    "    \n",
    "    # Uncomment the following line in case you want to see the masked result in grayscale  \n",
    "    # plt.imshow(masked_image, cmap='gray')\n",
    "    return masked_image\n",
    "\n",
    "def linear_regression(lines_, remove_outliers=True):\n",
    "    global Error_threshold  # This Error_threshold is later used to filter out outliers in lane detection\n",
    "    length_ = len(lines_)\n",
    "    \n",
    "    if length_ < 2:\n",
    "        return 0, 0\n",
    "    \n",
    "    x_bar = sum([item[0] for item in lines_]) / length_\n",
    "    y_bar = sum([item[1] for item in lines_]) / length_\n",
    "    # Slope\n",
    "    m_ = sum([(item[1] - y_bar) * (item[0] - x_bar) for item in lines_]) / sum([(item[0] - x_bar)**2 for item in lines_])\n",
    "    # y-intercept\n",
    "    b_ = y_bar - m_ * x_bar\n",
    "\n",
    "    if remove_outliers:\n",
    "        # Finding errors\n",
    "        errors_ = [abs(m_ * p[0] + b_ - p[1]) for p in lines_]\n",
    "        \n",
    "        # Finding outliers based on Error_threshold\n",
    "        Q3_ = np.percentile(errors_ , Error_threshold)\n",
    "\n",
    "        # Filtering out outliers from Left lines \n",
    "        lines_ = [lines_[i] for i in range(length_) if errors_[i] < Q3_]\n",
    "        # Running regression without outliers\n",
    "        return linear_regression(lines_, False)\n",
    "    \n",
    "    else: \n",
    "        return m_, b_\n",
    "\n",
    "\n",
    "def draw_lines(img, lines, color=[255, 0, 0], thickness=8):\n",
    "    \"\"\"\n",
    "    NOTE: this is the function you might want to use as a starting point once you want to \n",
    "    average/extrapolate the line segments you detect to map out the full\n",
    "    extent of the lane (going from the result shown in raw-lines-example.mp4\n",
    "    to that shown in P1_example.mp4).  \n",
    "    \n",
    "    Think about things like separating line segments by their \n",
    "    slope ((y2-y1)/(x2-x1)) to decide which segments are part of the left\n",
    "    line vs. the right line.  Then, you can average the position of each of \n",
    "    the lines and extrapolate to the top and bottom of the lane.\n",
    "    \n",
    "    This function draws `lines` with `color` and `thickness`.    \n",
    "    Lines are drawn on the image inplace (mutates the image).\n",
    "    If you want to make the lines semi-transparent, think about combining\n",
    "    this function with the weighted_img() function below\n",
    "    \"\"\"    \n",
    "    # Keeping midpoints of all lines in the right and left lanes in separate deques\n",
    "    linesL = deque()\n",
    "    linesR = deque()\n",
    "    \n",
    "    # Separating and Storing midpoints of L/R lines based on their location on the image\n",
    "    for line in lines:\n",
    "        for x1,y1,x2,y2 in line:\n",
    "                if x1 < img_width // 2 and x2 < img_width // 2:\n",
    "                    linesL.append(((x1 + x2) // 2, (y1 + y2) // 2))\n",
    "                elif x1 > img_width // 2 and x2 > img_width // 2:\n",
    "                    linesR.append(((x1 + x2) // 2, (y1 + y2) // 2))\n",
    "    \n",
    "    # Left lane linear regression\n",
    "    # Slope, y-intercept, errors\n",
    "    mL, bL = linear_regression(linesL)\n",
    "    \n",
    "    # Right lane linear regression\n",
    "    # Slope, y-intercept, errors\n",
    "    mR, bR = linear_regression(linesR)\n",
    "       \n",
    "    # yt and ys are upper and lower bounds of the mask region, they are used as upper/lower limits for line extrapolation\n",
    "    yt = P2[1]\n",
    "    ys = img_height\n",
    "      \n",
    "    # Drawing extrapolation of Left and Right lanes\n",
    "    if not(math.isnan(mL)) and mL != 0:\n",
    "        cv2.line(img, (int((ys - bL) / mL), ys), (int((yt - bL) / mL), yt), color, thickness)\n",
    "    if not(math.isnan(mR)) and mR != 0:\n",
    "        cv2.line(img, (int((ys - bR) / mR), ys), (int((yt - bR) / mR), yt), color, thickness)\n",
    "    \n",
    "\n",
    "def hough_lines(img, rho, theta, threshold, min_line_len, max_line_gap):\n",
    "    \"\"\"\n",
    "    `img` should be the output of a Canny transform.\n",
    "        \n",
    "    Returns an image with hough lines drawn.\n",
    "    \"\"\"\n",
    "    lines = cv2.HoughLinesP(img, rho, theta, threshold, np.array([]), minLineLength=min_line_len, maxLineGap=max_line_gap)\n",
    "    line_img = np.zeros((img.shape[0], img.shape[1], 3), dtype=np.uint8)\n",
    "    draw_lines(line_img, lines)\n",
    "    return line_img\n",
    "\n",
    "\n",
    "def weighted_img(img, initial_img, α=0.8, β=1., γ=0.):\n",
    "    \"\"\"\n",
    "    `img` is the output of the hough_lines(), An image with lines drawn on it.\n",
    "    Should be a blank image (all black) with lines drawn on it.\n",
    "    \n",
    "    `initial_img` should be the image before any processing.\n",
    "    \n",
    "    The result image is computed as follows:\n",
    "    \n",
    "    initial_img * α + img * β + γ\n",
    "    NOTE: initial_img and img must be the same shape!\n",
    "    \"\"\"\n",
    "    return cv2.addWeighted(initial_img, α, img, β, γ)"
   ]
  },
  {
   "cell_type": "markdown",
   "metadata": {},
   "source": [
    "## Test Images\n",
    "\n",
    "Build your pipeline to work on the images in the directory \"test_images\"  \n",
    "**You should make sure your pipeline works well on these images before you try the videos.**"
   ]
  },
  {
   "cell_type": "code",
   "execution_count": null,
   "metadata": {},
   "outputs": [],
   "source": [
    "import os\n",
    "os.listdir(\"test_images/\")"
   ]
  },
  {
   "cell_type": "markdown",
   "metadata": {},
   "source": [
    "## Build a Lane Finding Pipeline\n",
    "\n"
   ]
  },
  {
   "cell_type": "markdown",
   "metadata": {},
   "source": [
    "Build the pipeline and run your solution on all test_images. Make copies into the `test_images_output` directory, and you can use the images in your writeup report.\n",
    "\n",
    "Try tuning the various parameters, especially the low and high Canny thresholds as well as the Hough lines parameters."
   ]
  },
  {
   "cell_type": "code",
   "execution_count": null,
   "metadata": {},
   "outputs": [],
   "source": [
    "import time\n",
    "images = ['test_images/' + img for img in os.listdir(\"test_images/\")]\n",
    "\n",
    "# Gaussian smoothing parameters\n",
    "kernel_size = 7\n",
    "# Canny parameters\n",
    "low_threshold = 125\n",
    "high_threshold = 140\n",
    "# Defining Hough transform parameters, iterating over the output lines and drawing lines on a blank image\n",
    "rho = 2\n",
    "theta = np.pi/180\n",
    "threshold = 2\n",
    "min_line_len = 10\n",
    "max_line_gap = 30\n",
    "\n",
    "\n",
    "def process_image_test(image):\n",
    "    global img_width, img_height, P2\n",
    "    \n",
    "    # [1] Converting image color space to grayscale\n",
    "    gray = grayscale(image)\n",
    "    \n",
    "    # [2] Applying Gaussian smoothing\n",
    "    blur_gray = gaussian_blur(gray, kernel_size)\n",
    "    \n",
    "    # [3] Applying Canny transform\n",
    "    edges = canny(blur_gray, low_threshold, high_threshold)\n",
    "    \n",
    "    # [4] Defining a polygon region mask and use that as region of interest for lane detection\n",
    "    img_width = image.shape[1]\n",
    "    img_height = image.shape[0]\n",
    "    \n",
    "    poly_region = np.copy(image)*0\n",
    "    P1 = (int(0.05 * img_width), img_height)\n",
    "    P2 = (int(0.45 * img_width), int(0.624 * img_height))\n",
    "    P3 = (int(0.56 * img_width), int(0.624 * img_height))\n",
    "    P4 = (int(0.95 * img_width), img_height)\n",
    "    P5 = (int(0.75 * img_width), P4[1])\n",
    "    P6 = (int(0.52 * img_width), P3[1])\n",
    "    P7 = (int(0.49 * img_width), P2[1])\n",
    "    P8 = (int(0.25 * img_width), P1[1])\n",
    "\n",
    "    # Uncomment the following lines in case you need to check the polygon region mask\n",
    "    # cv2.line(poly_region,P1,P2,(0,255,0),5)\n",
    "    # cv2.line(poly_region,P2,P3,(0,255,0),5)\n",
    "    # cv2.line(poly_region,P3,P4,(0,255,0),5)\n",
    "    # cv2.line(poly_region,P4,P5,(0,255,0),5)\n",
    "    # cv2.line(poly_region,P5,P6,(0,255,0),5)\n",
    "    # cv2.line(poly_region,P6,P7,(0,255,0),5)\n",
    "    # cv2.line(poly_region,P7,P8,(0,255,0),5)\n",
    "    # cv2.line(poly_region,P8,P1,(0,255,0),5)\n",
    "    \n",
    "    vertices = np.array([[P1, P2, P3, P4, P5, P6, P7, P8, P1]], dtype=np.int32)\n",
    "    masked_edges = region_of_interest(edges, vertices)\n",
    "      \n",
    "    # [5] Applying Hough transform, detect lanes and extend using extrapolation\n",
    "    line_image = hough_lines(masked_edges, rho, theta, threshold, min_line_len, max_line_gap)\n",
    "    \n",
    "    # [6] Drawing transparent lanes on the original image\n",
    "    lines_edges = weighted_img(line_image, image, 0.8, 1., 0.)\n",
    "    # In case you need to check the mask region\n",
    "    lines_edges = weighted_img(poly_region, lines_edges, 0.8, 1., 0.) \n",
    "\n",
    "    return lines_edges\n",
    "    \n",
    "i = 1\n",
    "img_width = None\n",
    "img_height = None\n",
    "P2 = None\n",
    "Error_threshold = 70 # Allowable Error Percentage for filtering out outliers (defiend as percentile)\n",
    "for img in images:\n",
    "    # Loading image and converting to grayscale\n",
    "    image = mpimg.imread(img)\n",
    "\n",
    "    lines_edges = process_image_test(image)\n",
    "    \n",
    "    plt.figure(figsize=(80, 60)) \n",
    "    plt.subplot(6, 1, i)\n",
    "    \n",
    "    plt.imshow(lines_edges)\n",
    "    plt.axis('off')\n",
    "    plt.show()\n",
    "    i += 1\n"
   ]
  },
  {
   "cell_type": "markdown",
   "metadata": {},
   "source": [
    "## Test on Videos\n",
    "\n",
    "You know what's cooler than drawing lanes over images? Drawing lanes over video!\n",
    "\n",
    "We can test our solution on two provided videos:\n",
    "\n",
    "`solidWhiteRight.mp4`\n",
    "\n",
    "`solidYellowLeft.mp4`\n",
    "\n",
    "**Note: if you get an import error when you run the next cell, try changing your kernel (select the Kernel menu above --> Change Kernel). Still have problems? Try relaunching Jupyter Notebook from the terminal prompt. Also, consult the forums for more troubleshooting tips.**\n",
    "\n",
    "**If you get an error that looks like this:**\n",
    "```\n",
    "NeedDownloadError: Need ffmpeg exe. \n",
    "You can download it by calling: \n",
    "imageio.plugins.ffmpeg.download()\n",
    "```\n",
    "**Follow the instructions in the error message and check out [this forum post](https://discussions.udacity.com/t/project-error-of-test-on-videos/274082) for more troubleshooting tips across operating systems.**"
   ]
  },
  {
   "cell_type": "code",
   "execution_count": null,
   "metadata": {},
   "outputs": [],
   "source": [
    "# Import everything needed to edit/save/watch video clips\n",
    "from moviepy.editor import VideoFileClip\n",
    "from IPython.display import HTML"
   ]
  },
  {
   "cell_type": "code",
   "execution_count": null,
   "metadata": {
    "code_folding": []
   },
   "outputs": [],
   "source": [
    "def process_image(image):\n",
    "    global img_width, img_height, P2\n",
    "    \n",
    "    # [1] Converting image color space to grayscale\n",
    "    gray = grayscale(image)\n",
    "    \n",
    "    # [2] Applying Gaussian smoothing\n",
    "    blur_gray = gaussian_blur(gray, kernel_size)\n",
    "    \n",
    "    # [3] Applying Canny transform\n",
    "    edges = canny(blur_gray, low_threshold, high_threshold)\n",
    "    \n",
    "    # [4] Defining a polygon region mask and use that as region of interest for lane detection\n",
    "    img_width = image.shape[1]\n",
    "    img_height = image.shape[0]\n",
    "    \n",
    "    poly_region = np.copy(image)*0\n",
    "    P1 = (int(0.05 * img_width), img_height)\n",
    "    P2 = (int(0.45 * img_width), int(0.624 * img_height))\n",
    "    P3 = (int(0.56 * img_width), int(0.624 * img_height))\n",
    "    P4 = (int(0.95 * img_width), img_height)\n",
    "    P5 = (int(0.75 * img_width), P4[1])\n",
    "    P6 = (int(0.52 * img_width), P3[1])\n",
    "    P7 = (int(0.49 * img_width), P2[1])\n",
    "    P8 = (int(0.25 * img_width), P1[1])\n",
    "\n",
    "    # Uncomment the following lines in case you need to check the polygon region mask\n",
    "    # cv2.line(poly_region,P1,P2,(0,255,0),5)\n",
    "    # cv2.line(poly_region,P2,P3,(0,255,0),5)\n",
    "    # cv2.line(poly_region,P3,P4,(0,255,0),5)\n",
    "    # cv2.line(poly_region,P4,P5,(0,255,0),5)\n",
    "    # cv2.line(poly_region,P5,P6,(0,255,0),5)\n",
    "    # cv2.line(poly_region,P6,P7,(0,255,0),5)\n",
    "    # cv2.line(poly_region,P7,P8,(0,255,0),5)\n",
    "    # cv2.line(poly_region,P8,P1,(0,255,0),5)\n",
    "    \n",
    "    vertices = np.array([[P1, P2, P3, P4, P5, P6, P7, P8, P1]], dtype=np.int32)\n",
    "    masked_edges = region_of_interest(edges, vertices)\n",
    "      \n",
    "    # [5] Applying Hough transform, detect lanes and extend using extrapolation\n",
    "    line_image = hough_lines(masked_edges, rho, theta, threshold, min_line_len, max_line_gap)\n",
    "    \n",
    "    # [6] Drawing transparent lanes on the original image\n",
    "    lines_edges = weighted_img(line_image, image, 0.8, 1., 0.)\n",
    "    # In case you need to check the mask region\n",
    "    lines_edges = weighted_img(poly_region, lines_edges, 0.8, 1., 0.) \n",
    "\n",
    "    return lines_edges"
   ]
  },
  {
   "cell_type": "markdown",
   "metadata": {},
   "source": [
    "Let's try the one with the solid white lane on the right first ..."
   ]
  },
  {
   "cell_type": "code",
   "execution_count": null,
   "metadata": {},
   "outputs": [],
   "source": [
    "Error_threshold = 70 # Allowable Error Percentage (defined as percentile)\n",
    "white_output = 'test_videos_output/solidWhiteRight.mp4'\n",
    "## To speed up the testing process you may want to try your pipeline on a shorter subclip of the video\n",
    "## To do so add .subclip(start_second,end_second) to the end of the line below\n",
    "## Where start_second and end_second are integer values representing the start and end of the subclip\n",
    "## You may also uncomment the following line for a subclip of the first 5 seconds\n",
    "##clip1 = VideoFileClip(\"test_videos/solidWhiteRight.mp4\").subclip(0,5)\n",
    "clip1 = VideoFileClip(\"test_videos/solidWhiteRight.mp4\")\n",
    "white_clip = clip1.fl_image(process_image) #NOTE: this function expects color images!!\n",
    "%time white_clip.write_videofile(white_output, audio=False)"
   ]
  },
  {
   "cell_type": "markdown",
   "metadata": {},
   "source": [
    "Play the video inline, or if you prefer find the video in your filesystem (should be in the same directory) and play it in your video player of choice."
   ]
  },
  {
   "cell_type": "code",
   "execution_count": null,
   "metadata": {},
   "outputs": [],
   "source": [
    "HTML(\"\"\"\n",
    "<video width=\"960\" height=\"540\" controls>\n",
    "  <source src=\"{0}\">\n",
    "</video>\n",
    "\"\"\".format(white_output))"
   ]
  },
  {
   "cell_type": "markdown",
   "metadata": {},
   "source": [
    "## Improve the draw_lines() function\n",
    "\n",
    "**At this point, if you were successful with making the pipeline and tuning parameters, you probably have the Hough line segments drawn onto the road, but what about identifying the full extent of the lane and marking it clearly as in the example video (P1_example.mp4)?  Think about defining a line to run the full length of the visible lane based on the line segments you identified with the Hough Transform. As mentioned previously, try to average and/or extrapolate the line segments you've detected to map out the full extent of the lane lines. You can see an example of the result you're going for in the video \"P1_example.mp4\".**\n",
    "\n",
    "**Go back and modify your draw_lines function accordingly and try re-running your pipeline. The new output should draw a single, solid line over the left lane line and a single, solid line over the right lane line. The lines should start from the bottom of the image and extend out to the top of the region of interest.**"
   ]
  },
  {
   "cell_type": "markdown",
   "metadata": {},
   "source": [
    "Now for the one with the solid yellow lane on the left. This one's more tricky!"
   ]
  },
  {
   "cell_type": "code",
   "execution_count": null,
   "metadata": {},
   "outputs": [],
   "source": [
    "Error_threshold = 70 # Allowable Error Percentage\n",
    "yellow_output = 'test_videos_output/solidYellowLeft.mp4'\n",
    "## To speed up the testing process you may want to try your pipeline on a shorter subclip of the video\n",
    "## To do so add .subclip(start_second,end_second) to the end of the line below\n",
    "## Where start_second and end_second are integer values representing the start and end of the subclip\n",
    "## You may also uncomment the following line for a subclip of the first 5 seconds\n",
    "##clip2 = VideoFileClip('test_videos/solidYellowLeft.mp4').subclip(0,5)\n",
    "clip2 = VideoFileClip('test_videos/solidYellowLeft.mp4')\n",
    "yellow_clip = clip2.fl_image(process_image)\n",
    "%time yellow_clip.write_videofile(yellow_output, audio=False)"
   ]
  },
  {
   "cell_type": "code",
   "execution_count": null,
   "metadata": {},
   "outputs": [],
   "source": [
    "HTML(\"\"\"\n",
    "<video width=\"960\" height=\"540\" controls>\n",
    "  <source src=\"{0}\">\n",
    "</video>\n",
    "\"\"\".format(yellow_output))"
   ]
  },
  {
   "cell_type": "markdown",
   "metadata": {},
   "source": [
    "## Writeup and Submission\n",
    "\n",
    "If you're satisfied with your video outputs, it's time to make the report writeup in a pdf or markdown file. Once you have this Ipython notebook ready along with the writeup, it's time to submit for review! Here is a [link](https://github.com/udacity/CarND-LaneLines-P1/blob/master/writeup_template.md) to the writeup template file.\n"
   ]
  },
  {
   "cell_type": "markdown",
   "metadata": {
    "collapsed": true
   },
   "source": [
    "## Optional Challenge\n",
    "\n",
    "Try your lane finding pipeline on the video below.  Does it still work?  Can you figure out a way to make it more robust?  If you're up for the challenge, modify your pipeline so it works with this video and submit it along with the rest of your project!"
   ]
  },
  {
   "cell_type": "code",
   "execution_count": null,
   "metadata": {},
   "outputs": [],
   "source": [
    "Error_threshold = 70 # Allowable Error Percentage\n",
    "challenge_output = 'test_videos_output/challenge.mp4'\n",
    "## To speed up the testing process you may want to try your pipeline on a shorter subclip of the video\n",
    "## To do so add .subclip(start_second,end_second) to the end of the line below\n",
    "## Where start_second and end_second are integer values representing the start and end of the subclip\n",
    "## You may also uncomment the following line for a subclip of the first 5 seconds\n",
    "# clip3 = VideoFileClip('test_videos/challenge.mp4').subclip(5,6)\n",
    "clip3 = VideoFileClip('test_videos/challenge.mp4')\n",
    "challenge_clip = clip3.fl_image(process_image)\n",
    "%time challenge_clip.write_videofile(challenge_output, audio=False)"
   ]
  },
  {
   "cell_type": "code",
   "execution_count": null,
   "metadata": {},
   "outputs": [],
   "source": [
    "HTML(\"\"\"\n",
    "<video width=\"960\" height=\"540\" controls>\n",
    "  <source src=\"{0}\">\n",
    "</video>\n",
    "\"\"\".format(challenge_output))"
   ]
  },
  {
   "cell_type": "code",
   "execution_count": null,
   "metadata": {},
   "outputs": [],
   "source": []
  }
 ],
 "metadata": {
  "anaconda-cloud": {},
  "celltoolbar": "Raw Cell Format",
  "kernelspec": {
   "display_name": "Python 3",
   "language": "python",
   "name": "python3"
  },
  "language_info": {
   "codemirror_mode": {
    "name": "ipython",
    "version": 3
   },
   "file_extension": ".py",
   "mimetype": "text/x-python",
   "name": "python",
   "nbconvert_exporter": "python",
   "pygments_lexer": "ipython3",
   "version": "3.7.9"
  }
 },
 "nbformat": 4,
 "nbformat_minor": 1
}
